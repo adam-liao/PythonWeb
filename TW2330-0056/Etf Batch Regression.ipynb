{
 "cells": [
  {
   "cell_type": "code",
   "execution_count": 10,
   "id": "9b900e19",
   "metadata": {},
   "outputs": [],
   "source": [
    "# ✅ ETF 與台積電報酬率完整批次分析專題版\n",
    "\n",
    "import yfinance as yf\n",
    "import pandas as pd\n",
    "import matplotlib.pyplot as plt\n",
    "import seaborn as sns\n",
    "from sklearn.linear_model import LinearRegression\n",
    "import numpy as np\n",
    "import platform\n",
    "import os\n"
   ]
  },
  {
   "cell_type": "code",
   "execution_count": null,
   "id": "d5304114",
   "metadata": {},
   "outputs": [],
   "source": [
    "import os\n",
    "import certifi\n",
    "os.environ['SSL_CERT_FILE'] = certifi.where()\n",
    "\n",
    "#安裝 certifi\n",
    "#pip install certifi"
   ]
  },
  {
   "cell_type": "code",
   "execution_count": 13,
   "id": "24b4d8fa",
   "metadata": {},
   "outputs": [],
   "source": [
    "# ✅ 字體設定（支援跨平台中文）\n",
    "if platform.system() == 'Darwin':\n",
    "    plt.rcParams['font.family'] = ['Arial Unicode MS']\n",
    "elif platform.system() == 'Windows':\n",
    "    plt.rcParams['font.family'] = ['Microsoft JhengHei']\n",
    "else:\n",
    "    plt.rcParams['font.family'] = ['Noto Sans CJK TC']\n",
    "\n",
    "plt.rcParams['axes.unicode_minus'] = False\n"
   ]
  },
  {
   "cell_type": "code",
   "execution_count": 14,
   "id": "cb8a8cfb",
   "metadata": {},
   "outputs": [],
   "source": [
    "\n",
    "# ✅ 資料參數設定\n",
    "base_stock_symbol = \"2330.TW\"\n",
    "base_stock_name = \"台積電\"\n"
   ]
  },
  {
   "cell_type": "code",
   "execution_count": 15,
   "id": "3f71ec3b",
   "metadata": {},
   "outputs": [],
   "source": [
    "\n",
    "# ✅ 你可以在這裡放入你要分析的多個 ETF\n",
    "target_list = [\n",
    "    {\"symbol\": \"0050.TW\", \"name\": \"0050元大台灣50ETF\"},\n",
    "    {\"symbol\": \"0056.TW\", \"name\": \"0056高股息ETF\"},\n",
    "    {\"symbol\": \"00878.TW\", \"name\": \"00878高股息ETF\"},\n",
    "    {\"symbol\": \"00692.TW\", \"name\": \"富邦公司治理ETF\"}\n",
    "]\n",
    "\n",
    "start_date = \"2022-01-01\"\n",
    "# end_date = \"2024-12-31\"\n",
    "end_date = \"2025-4-30\"\n"
   ]
  },
  {
   "cell_type": "code",
   "execution_count": 16,
   "id": "9a983489",
   "metadata": {},
   "outputs": [],
   "source": [
    "\n",
    "# ✅ 建立儲存資料夾\n",
    "os.makedirs(\"ETF分析圖表\", exist_ok=True)\n"
   ]
  },
  {
   "cell_type": "code",
   "execution_count": 17,
   "id": "8019c717",
   "metadata": {},
   "outputs": [
    {
     "name": "stderr",
     "output_type": "stream",
     "text": [
      "Failed to get ticker '2330.TW' reason: Failed to perform, curl: (60) SSL certificate problem: unable to get local issuer certificate. See https://curl.se/libcurl/c/libcurl-errors.html first for more details.\n",
      "[*********************100%***********************]  1 of 1 completed\n",
      "\n",
      "1 Failed download:\n",
      "['2330.TW']: YFTzMissingError('possibly delisted; no timezone found')\n"
     ]
    }
   ],
   "source": [
    "\n",
    "# ✅ 先下載台積電資料 (只下載一次)\n",
    "base_data = yf.download(base_stock_symbol, start=start_date, end=end_date)\n",
    "base_data['Return'] = base_data['Close'].pct_change()\n"
   ]
  },
  {
   "cell_type": "code",
   "execution_count": 11,
   "id": "8d6a5494",
   "metadata": {},
   "outputs": [
    {
     "name": "stdout",
     "output_type": "stream",
     "text": [
      "\n",
      "開始分析 0050元大台灣50ETF...\n"
     ]
    },
    {
     "name": "stderr",
     "output_type": "stream",
     "text": [
      "[*********************100%***********************]  1 of 1 completed\n",
      "[*********************100%***********************]  1 of 1 completed"
     ]
    },
    {
     "name": "stdout",
     "output_type": "stream",
     "text": [
      "\n",
      "開始分析 0056高股息ETF...\n"
     ]
    },
    {
     "name": "stderr",
     "output_type": "stream",
     "text": [
      "\n",
      "[*********************100%***********************]  1 of 1 completed"
     ]
    },
    {
     "name": "stdout",
     "output_type": "stream",
     "text": [
      "\n",
      "開始分析 00878高股息ETF...\n"
     ]
    },
    {
     "name": "stderr",
     "output_type": "stream",
     "text": [
      "\n",
      "[*********************100%***********************]  1 of 1 completed"
     ]
    },
    {
     "name": "stdout",
     "output_type": "stream",
     "text": [
      "\n",
      "開始分析 富邦公司治理ETF...\n"
     ]
    },
    {
     "name": "stderr",
     "output_type": "stream",
     "text": [
      "\n"
     ]
    }
   ],
   "source": [
    "\n",
    "# ✅ 逐一分析每個目標ETF\n",
    "\n",
    "results = []  # 儲存每次分析結果\n",
    "\n",
    "for target in target_list:\n",
    "    compare_stock_symbol = target[\"symbol\"]\n",
    "    compare_stock_name = target[\"name\"]\n",
    "\n",
    "    print(f\"\\n開始分析 {compare_stock_name}...\")\n",
    "\n",
    "    # 下載ETF資料\n",
    "    compare_data = yf.download(compare_stock_symbol, start=start_date, end=end_date)\n",
    "    compare_data['Return'] = compare_data['Close'].pct_change()\n",
    "\n",
    "    # 合併報酬率\n",
    "    returns = pd.DataFrame({\n",
    "        f'{base_stock_symbol}_Return': base_data['Return'],\n",
    "        f'{compare_stock_symbol}_Return': compare_data['Return']\n",
    "    }).dropna()\n",
    "\n",
    "    # 線性回歸\n",
    "    X = returns[f'{base_stock_symbol}_Return'].values.reshape(-1, 1)\n",
    "    y = returns[f'{compare_stock_symbol}_Return'].values\n",
    "\n",
    "    model = LinearRegression()\n",
    "    model.fit(X, y)\n",
    "\n",
    "    slope = model.coef_[0]\n",
    "    intercept = model.intercept_\n",
    "\n",
    "    # 畫圖\n",
    "    plt.figure(figsize=(8, 6))\n",
    "    sns.scatterplot(x=returns[f'{base_stock_symbol}_Return'], y=returns[f'{compare_stock_symbol}_Return'], alpha=0.5, label='報酬率點')\n",
    "    plt.plot(returns[f'{base_stock_symbol}_Return'], model.predict(X), color='red', label=f'趨勢線：y = {slope:.2f}x + {intercept:.4f}')\n",
    "    plt.title(f'{base_stock_name} 與 {compare_stock_name} 報酬率散佈圖與回歸趨勢線')\n",
    "    plt.xlabel(f'{base_stock_name} 報酬率')\n",
    "    plt.ylabel(f'{compare_stock_name} 報酬率')\n",
    "    plt.legend()\n",
    "    plt.grid(True)\n",
    "    plt.tight_layout()\n",
    "\n",
    "    filename = f\"ETF分析圖表/{compare_stock_symbol}_回歸分析圖.png\"\n",
    "    plt.savefig(filename)\n",
    "    plt.close()\n",
    "\n",
    "    # 儲存結果\n",
    "    results.append({\n",
    "        \"ETF代碼\": compare_stock_symbol,\n",
    "        \"ETF名稱\": compare_stock_name,\n",
    "        \"斜率\": slope,\n",
    "        \"截距\": intercept\n",
    "    })\n"
   ]
  },
  {
   "cell_type": "code",
   "execution_count": 12,
   "id": "c6bcb73a",
   "metadata": {},
   "outputs": [
    {
     "name": "stdout",
     "output_type": "stream",
     "text": [
      "\n",
      "所有分析已完成，結果已儲存在 'ETF分析圖表/' 資料夾內。\n"
     ]
    },
    {
     "data": {
      "text/html": [
       "<div>\n",
       "<style scoped>\n",
       "    .dataframe tbody tr th:only-of-type {\n",
       "        vertical-align: middle;\n",
       "    }\n",
       "\n",
       "    .dataframe tbody tr th {\n",
       "        vertical-align: top;\n",
       "    }\n",
       "\n",
       "    .dataframe thead th {\n",
       "        text-align: right;\n",
       "    }\n",
       "</style>\n",
       "<table border=\"1\" class=\"dataframe\">\n",
       "  <thead>\n",
       "    <tr style=\"text-align: right;\">\n",
       "      <th></th>\n",
       "      <th>ETF代碼</th>\n",
       "      <th>ETF名稱</th>\n",
       "      <th>斜率</th>\n",
       "      <th>截距</th>\n",
       "    </tr>\n",
       "  </thead>\n",
       "  <tbody>\n",
       "    <tr>\n",
       "      <th>0</th>\n",
       "      <td>0050.TW</td>\n",
       "      <td>0050元大台灣50ETF</td>\n",
       "      <td>0.677608</td>\n",
       "      <td>-0.000086</td>\n",
       "    </tr>\n",
       "    <tr>\n",
       "      <th>1</th>\n",
       "      <td>0056.TW</td>\n",
       "      <td>0056高股息ETF</td>\n",
       "      <td>0.359009</td>\n",
       "      <td>0.000141</td>\n",
       "    </tr>\n",
       "    <tr>\n",
       "      <th>2</th>\n",
       "      <td>00878.TW</td>\n",
       "      <td>00878高股息ETF</td>\n",
       "      <td>0.329642</td>\n",
       "      <td>0.000189</td>\n",
       "    </tr>\n",
       "    <tr>\n",
       "      <th>3</th>\n",
       "      <td>00692.TW</td>\n",
       "      <td>富邦公司治理ETF</td>\n",
       "      <td>0.602051</td>\n",
       "      <td>-0.000054</td>\n",
       "    </tr>\n",
       "  </tbody>\n",
       "</table>\n",
       "</div>"
      ],
      "text/plain": [
       "      ETF代碼          ETF名稱        斜率        截距\n",
       "0   0050.TW  0050元大台灣50ETF  0.677608 -0.000086\n",
       "1   0056.TW     0056高股息ETF  0.359009  0.000141\n",
       "2  00878.TW    00878高股息ETF  0.329642  0.000189\n",
       "3  00692.TW      富邦公司治理ETF  0.602051 -0.000054"
      ]
     },
     "metadata": {},
     "output_type": "display_data"
    }
   ],
   "source": [
    "\n",
    "# ✅ 匯出整體回歸結果報表\n",
    "result_df = pd.DataFrame(results)\n",
    "result_df.to_csv(\"ETF分析圖表/回歸分析總表.csv\", index=False)\n",
    "\n",
    "print(\"\\n所有分析已完成，結果已儲存在 'ETF分析圖表/' 資料夾內。\")\n",
    "display(result_df)"
   ]
  }
 ],
 "metadata": {
  "kernelspec": {
   "display_name": "myenv",
   "language": "python",
   "name": "python3"
  },
  "language_info": {
   "codemirror_mode": {
    "name": "ipython",
    "version": 3
   },
   "file_extension": ".py",
   "mimetype": "text/x-python",
   "name": "python",
   "nbconvert_exporter": "python",
   "pygments_lexer": "ipython3",
   "version": "3.11.11"
  }
 },
 "nbformat": 4,
 "nbformat_minor": 5
}
