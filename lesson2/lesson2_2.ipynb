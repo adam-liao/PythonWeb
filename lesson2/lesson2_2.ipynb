{
 "cells": [
  {
   "cell_type": "markdown",
   "metadata": {},
   "source": []
  },
  {
   "cell_type": "markdown",
   "metadata": {},
   "source": [
    "### **args, **kwargs\n",
    "- *arge->沒有限制數量的引數值的呼叫"
   ]
  },
  {
   "cell_type": "code",
   "execution_count": 2,
   "metadata": {},
   "outputs": [],
   "source": [
    "### 自定 function\n",
    "def print_args(*args):\n",
    "    print('args 是 tuple:',args)"
   ]
  },
  {
   "cell_type": "code",
   "execution_count": 4,
   "metadata": {},
   "outputs": [
    {
     "name": "stdout",
     "output_type": "stream",
     "text": [
      "args 是 tuple: (1, 2, 3, 4, '5', '6', '7', True, False)\n"
     ]
    }
   ],
   "source": [
    "print_args(1,2,3,4,'5','6','7',True,False)"
   ]
  },
  {
   "cell_type": "code",
   "execution_count": 5,
   "metadata": {},
   "outputs": [],
   "source": [
    "#自定 Function 沒有限制數量的'名稱呼叫'\n",
    "def print_kwargs(**kwargs):\n",
    "    print('kwargs是dict:',kwargs)"
   ]
  },
  {
   "cell_type": "code",
   "execution_count": 6,
   "metadata": {},
   "outputs": [
    {
     "name": "stdout",
     "output_type": "stream",
     "text": [
      "kwargs是dict: {'one': 1, 'two': 2, 'three': 3, 'four': 4}\n"
     ]
    }
   ],
   "source": [
    "print_kwargs(one=1,two=2,three=3,four=4)"
   ]
  },
  {
   "cell_type": "code",
   "execution_count": 8,
   "metadata": {},
   "outputs": [],
   "source": [
    "def print_all(*args,**kwargs):\n",
    "    print('args是tuple:',args)\n",
    "    print('kwargs是dict:',kwargs)"
   ]
  },
  {
   "cell_type": "code",
   "execution_count": 9,
   "metadata": {},
   "outputs": [
    {
     "name": "stdout",
     "output_type": "stream",
     "text": [
      "args是tuple: (1, 2, 3, 45)\n",
      "kwargs是dict: {'one': 1, 'two': 2, 'tree': 3}\n"
     ]
    }
   ],
   "source": [
    "print_all(1,2,3,45,one=1,two=2,tree=3)"
   ]
  }
 ],
 "metadata": {
  "kernelspec": {
   "display_name": ".venv",
   "language": "python",
   "name": "python3"
  },
  "language_info": {
   "codemirror_mode": {
    "name": "ipython",
    "version": 3
   },
   "file_extension": ".py",
   "mimetype": "text/x-python",
   "name": "python",
   "nbconvert_exporter": "python",
   "pygments_lexer": "ipython3",
   "version": "3.13.0"
  }
 },
 "nbformat": 4,
 "nbformat_minor": 2
}
