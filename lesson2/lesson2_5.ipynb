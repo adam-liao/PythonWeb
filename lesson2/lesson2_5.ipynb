{
 "cells": [
  {
   "cell_type": "code",
   "execution_count": 2,
   "metadata": {},
   "outputs": [
    {
     "data": {
      "text/plain": [
       "[{'name': 'robert', 'chinese': 87, 'english': 92, 'math': 99},\n",
       " {'name': 'mery', 'chinese': 79, 'english': 88, 'math': 90}]"
      ]
     },
     "execution_count": 2,
     "metadata": {},
     "output_type": "execute_result"
    }
   ],
   "source": [
    "students:list=[]\n",
    "students.append({'name':'robert',\"chinese\":87,'english':92,'math':99})\n",
    "students.append({'name':'mery',\"chinese\":79,'english':88,'math':90})\n",
    "students"
   ]
  },
  {
   "cell_type": "code",
   "execution_count": 5,
   "metadata": {},
   "outputs": [
    {
     "name": "stdout",
     "output_type": "stream",
     "text": [
      "name::robert\n",
      "chinese::87\n",
      "english::92\n",
      "math::99\n",
      "====================\n",
      "name::mery\n",
      "chinese::79\n",
      "english::88\n",
      "math::90\n",
      "====================\n"
     ]
    }
   ],
   "source": [
    "#印出list,dict資料結構\n",
    "for i in students:\n",
    "    for key,value in i.items():#tuple拆解法\n",
    "        print(key,value,sep=\"::\")\n",
    "    print(\"=\"*20)"
   ]
  },
  {
   "cell_type": "code",
   "execution_count": 10,
   "metadata": {},
   "outputs": [
    {
     "name": "stdout",
     "output_type": "stream",
     "text": [
      "     name : robert\n",
      "  chinese : 87\n",
      "  english : 92\n",
      "     math : 99\n",
      "====================\n",
      "     name : mery\n",
      "  chinese : 79\n",
      "  english : 88\n",
      "     math : 90\n",
      "====================\n"
     ]
    }
   ],
   "source": [
    "for i in students:\n",
    "    for key,value in i.items():\n",
    "        # print(key,value,sep=\":\")\n",
    "        print(f' {key:>8} : {value:2}')\n",
    "    print(\"=\"*20)\n",
    "    "
   ]
  }
 ],
 "metadata": {
  "kernelspec": {
   "display_name": ".venv",
   "language": "python",
   "name": "python3"
  },
  "language_info": {
   "codemirror_mode": {
    "name": "ipython",
    "version": 3
   },
   "file_extension": ".py",
   "mimetype": "text/x-python",
   "name": "python",
   "nbconvert_exporter": "python",
   "pygments_lexer": "ipython3",
   "version": "3.13.0"
  }
 },
 "nbformat": 4,
 "nbformat_minor": 2
}
