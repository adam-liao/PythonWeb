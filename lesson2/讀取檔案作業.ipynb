{
 "cells": [
  {
   "cell_type": "markdown",
   "metadata": {},
   "source": [
    "```python\n",
    "\n",
    "````"
   ]
  },
  {
   "cell_type": "markdown",
   "metadata": {},
   "source": [
    "1.**請讀取name.txt**\n",
    "\n",
    "2.**將文字儲存於List內容**\n",
    "\n",
    "3.**每次執行可以亂數產生3個名字**\n"
   ]
  },
  {
   "cell_type": "code",
   "execution_count": 13,
   "metadata": {},
   "outputs": [
    {
     "name": "stdout",
     "output_type": "stream",
     "text": [
      "🎲 隨機抽出的名字：\n",
      "馮耀中\n",
      "李淑芳\n",
      "昌嘉洋\n"
     ]
    }
   ],
   "source": [
    "import random as rnd\n",
    "\n",
    "student= []\n",
    "\n",
    "def readfile():                                       # 開啟檔案，讀取模式（r），用 UTF-8 編碼避免亂碼\n",
    "    f = open('../lesson2/names.txt', 'r', encoding='utf-8')    # 用 for 逐行讀取檔案內容\n",
    "    for line in f:                                    # 把每一行多餘的換行符號去掉（避免出現名字\\n）\n",
    "        name = line.strip()\n",
    "        student.append(name)\n",
    "    # 關掉檔案，釋放資源\n",
    "    f.close()\n",
    "\n",
    "readfile()\n",
    "\n",
    "# 隨機選 3 個學生\n",
    "result = rnd.sample(student, 3)\n",
    "print(\"🎲 隨機抽出的名字：\")\n",
    "for i in result:\n",
    "    print(i)"
   ]
  },
  {
   "cell_type": "code",
   "execution_count": 1,
   "metadata": {},
   "outputs": [
    {
     "name": "stdout",
     "output_type": "stream",
     "text": [
      "今天的值日生\n",
      "張慧君\n",
      "張彥博\n",
      "陳奇瑄\n"
     ]
    }
   ],
   "source": [
    "import random as rnd\n",
    "student=[]\n",
    "def readfile():\n",
    "    f=open('../lesson2/names.txt','r',encoding='utf-8')\n",
    "    for line in f:\n",
    "        name=line.strip()\n",
    "        # 去除前後空格\n",
    "        student.append(name)\n",
    "    f.close()\n",
    "    \n",
    "readfile()\n",
    "result=rnd.sample(student,3)\n",
    "print(\"今天的值日生\")\n",
    "for i in result:\n",
    "    print(i)"
   ]
  },
  {
   "cell_type": "markdown",
   "metadata": {},
   "source": []
  },
  {
   "cell_type": "code",
   "execution_count": 20,
   "metadata": {},
   "outputs": [
    {
     "name": "stdout",
     "output_type": "stream",
     "text": [
      " 本班共有299人 值日生  ['游淑惠', '黃柏宇', '林世城']\n"
     ]
    }
   ],
   "source": [
    "import random as rnd\n",
    "with open(\"names.txt\",encoding='utf-8') as f:\n",
    "    content:str=f.read()\n",
    "    names:list[str]=content.split()\n",
    "\n",
    "f.close()\n",
    "\n",
    "#rand_name(rnd.sample(names,3))\n",
    "\n",
    "print(f' 本班共有{len(names)}人 值日生  {rnd.sample(names,3)}')"
   ]
  }
 ],
 "metadata": {
  "kernelspec": {
   "display_name": ".venv",
   "language": "python",
   "name": "python3"
  },
  "language_info": {
   "codemirror_mode": {
    "name": "ipython",
    "version": 3
   },
   "file_extension": ".py",
   "mimetype": "text/x-python",
   "name": "python",
   "nbconvert_exporter": "python",
   "pygments_lexer": "ipython3",
   "version": "3.13.2"
  }
 },
 "nbformat": 4,
 "nbformat_minor": 2
}
