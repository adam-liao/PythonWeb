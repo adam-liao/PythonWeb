{
 "cells": [
  {
   "cell_type": "markdown",
   "metadata": {},
   "source": [
    "# 下載internet的資源\n",
    "--使用第三方套件requests\n",
    "\n",
    "安裝 pip install requests\n",
    "更新 python.exe -m pip install --upgrade pi"
   ]
  }
 ],
 "metadata": {
  "language_info": {
   "name": "python"
  }
 },
 "nbformat": 4,
 "nbformat_minor": 2
}
