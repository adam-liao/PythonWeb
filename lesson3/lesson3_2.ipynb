{
 "cells": [
  {
   "cell_type": "markdown",
   "metadata": {},
   "source": [
    "# 下載internet的資源\n",
    "pypi查詢\n",
    "https://pypi.org/project/requests/\n",
    "--使用第三方套件requests\n",
    "\n",
    "安裝 pip install requests\n",
    "更新 python.exe -m pip install --upgrade pi\n",
    "\n",
    "API Reference 說明書\n",
    "requests.get(url)"
   ]
  },
  {
   "cell_type": "code",
   "execution_count": null,
   "metadata": {
    "vscode": {
     "languageId": "plaintext"
    }
   },
   "outputs": [],
   "source": [
    "import requests\n",
    "from requests import Response\n",
    "\n",
    "url = '\thttps://data.moenv.gov.tw/api/v2/aqx_p_432?api_key=540e2ca4-41e1-4186-8497-fdd67024ac44&limit=1000&sort=ImportDate desc&format=CSV'\n",
    " \n",
    "#response:requests.Response=requests.get(url)\n",
    "\n",
    "#有用from import 就可以直接用\n",
    "response:Response=requests.get(url)"
   ]
  }
 ],
 "metadata": {
  "language_info": {
   "name": "python"
  }
 },
 "nbformat": 4,
 "nbformat_minor": 2
}
